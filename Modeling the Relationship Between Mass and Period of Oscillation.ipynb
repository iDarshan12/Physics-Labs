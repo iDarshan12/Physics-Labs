{
 "cells": [
  {
   "cell_type": "code",
   "execution_count": null,
   "metadata": {
    "collapsed": false
   },
   "outputs": [],
   "source": [
    "%matplotlib inline"
   ]
  },
  {
   "cell_type": "markdown",
   "metadata": {},
   "source": [
    "![image](http://www.physics.louisville.edu/cldavis/phys298/notes/shm_files/image021.gif)"
   ]
  },
  {
   "cell_type": "markdown",
   "metadata": {},
   "source": [
    "### Procedure"
   ]
  },
  {
   "cell_type": "markdown",
   "metadata": {},
   "source": [
    "Place a mass on a spring at rest. Pull the spring down and record the oscillations on camera for five seconds. Viewing them in slow motion, count the number of oscillations in five seconds and divide the number by five to obtain an approximate number of oscillations per second. Record the data in a table."
   ]
  },
  {
   "cell_type": "markdown",
   "metadata": {},
   "source": [
    "| Mass (g) \t| Oscillations per Second\t|\n",
    "|-----\t|------\t|\n",
    "| 50    |  4.6 \t|\n",
    "| 150   |  3.6\t|\n",
    "| 200   |  3.0  |\n",
    "| 350   |  2.8  |\n",
    "| 300   |  2.6 \t|\n",
    "| 350   |  2.4  |\n",
    "| 400   |  2.0  |"
   ]
  },
  {
   "cell_type": "code",
   "execution_count": null,
   "metadata": {
    "collapsed": false
   },
   "outputs": [],
   "source": [
    "import matplotlib.pyplot as plt\n",
    "import numpy as np\n",
    "from scipy.optimize import curve_fit\n",
    "\n",
    "def model (x ,a, b):\n",
    "    return a*x + b\n",
    "xm = np.linspace(0, 500, 500)\n",
    "x=[50, 150, 200, 250, 300, 350, 400]\n",
    "y=[4.6, 3.6, 3, 2.8, 2.6, 2.4, 2]\n",
    "plt.plot(x,y,'r.')\n",
    "\n",
    "a,b = curve_fit(model, x, y)[0]\n",
    "print(a,b)\n",
    "plt.plot(xm, model(xm, a, b))\n",
    "plt.xlabel(\"Mass(g)\")\n",
    "plt.ylabel(\"Oscillations per Second\")\n",
    "plt.title(\"Relationship Between Mass and Oscilliation\")\n",
    "plt.show()"
   ]
  },
  {
   "cell_type": "markdown",
   "metadata": {
    "collapsed": true
   },
   "source": [
    "### Results"
   ]
  },
  {
   "cell_type": "markdown",
   "metadata": {},
   "source": [
    "$$T = 2\\pi \\sqrt(\\frac{m}{k})$$"
   ]
  },
  {
   "cell_type": "markdown",
   "metadata": {},
   "source": [
    "### Conclusion"
   ]
  },
  {
   "cell_type": "markdown",
   "metadata": {},
   "source": [
    "During the expiriment we came to the conclusion that Hooke's law played ba big role into this expiriment. The period of oscillation is dependent on the mass placed on the spring, as well as spring constant. "
   ]
  },
  {
   "cell_type": "markdown",
   "metadata": {},
   "source": [
    "***Darshan Patel, Jason Parra, Kevin Alvarado***"
   ]
  }
 ],
 "metadata": {
  "kernelspec": {
   "display_name": "Python 3",
   "language": "python",
   "name": "python3"
  },
  "language_info": {
   "codemirror_mode": {
    "name": "ipython",
    "version": 3
   },
   "file_extension": ".py",
   "mimetype": "text/x-python",
   "name": "python",
   "nbconvert_exporter": "python",
   "pygments_lexer": "ipython3",
   "version": "3.4.4"
  }
 },
 "nbformat": 4,
 "nbformat_minor": 0
}
